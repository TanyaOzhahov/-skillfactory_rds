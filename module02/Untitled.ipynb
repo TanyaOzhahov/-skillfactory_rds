{
 "cells": [
  {
   "cell_type": "code",
   "execution_count": 1,
   "metadata": {},
   "outputs": [],
   "source": [
    "import pandas as pd\n",
    "import matplotlib.pyplot as plt\n",
    "import seaborn as sns\n",
    "from itertools import combinations\n",
    "from scipy.stats import ttest_ind"
   ]
  },
  {
   "cell_type": "markdown",
   "metadata": {},
   "source": [
    "# Импортировали нужные библиотеки, прочитаем файл"
   ]
  },
  {
   "cell_type": "code",
   "execution_count": 2,
   "metadata": {},
   "outputs": [],
   "source": [
    "students = pd.read_csv('stud_math.csv')"
   ]
  },
  {
   "cell_type": "markdown",
   "metadata": {},
   "source": [
    "# Рассмотрим данные"
   ]
  },
  {
   "cell_type": "code",
   "execution_count": 4,
   "metadata": {},
   "outputs": [
    {
     "data": {
      "text/html": [
       "<div>\n",
       "<style scoped>\n",
       "    .dataframe tbody tr th:only-of-type {\n",
       "        vertical-align: middle;\n",
       "    }\n",
       "\n",
       "    .dataframe tbody tr th {\n",
       "        vertical-align: top;\n",
       "    }\n",
       "\n",
       "    .dataframe thead th {\n",
       "        text-align: right;\n",
       "    }\n",
       "</style>\n",
       "<table border=\"1\" class=\"dataframe\">\n",
       "  <thead>\n",
       "    <tr style=\"text-align: right;\">\n",
       "      <th></th>\n",
       "      <th>school</th>\n",
       "      <th>sex</th>\n",
       "      <th>age</th>\n",
       "      <th>address</th>\n",
       "      <th>famsize</th>\n",
       "      <th>Pstatus</th>\n",
       "      <th>Medu</th>\n",
       "      <th>Fedu</th>\n",
       "      <th>Mjob</th>\n",
       "      <th>Fjob</th>\n",
       "      <th>...</th>\n",
       "      <th>studytime, granular</th>\n",
       "      <th>higher</th>\n",
       "      <th>internet</th>\n",
       "      <th>romantic</th>\n",
       "      <th>famrel</th>\n",
       "      <th>freetime</th>\n",
       "      <th>goout</th>\n",
       "      <th>health</th>\n",
       "      <th>absences</th>\n",
       "      <th>score</th>\n",
       "    </tr>\n",
       "  </thead>\n",
       "  <tbody>\n",
       "    <tr>\n",
       "      <th>0</th>\n",
       "      <td>GP</td>\n",
       "      <td>F</td>\n",
       "      <td>18</td>\n",
       "      <td>U</td>\n",
       "      <td>NaN</td>\n",
       "      <td>A</td>\n",
       "      <td>4.0</td>\n",
       "      <td>4.0</td>\n",
       "      <td>at_home</td>\n",
       "      <td>teacher</td>\n",
       "      <td>...</td>\n",
       "      <td>-6.0</td>\n",
       "      <td>yes</td>\n",
       "      <td>NaN</td>\n",
       "      <td>no</td>\n",
       "      <td>4.0</td>\n",
       "      <td>3.0</td>\n",
       "      <td>4.0</td>\n",
       "      <td>3.0</td>\n",
       "      <td>6.0</td>\n",
       "      <td>30.0</td>\n",
       "    </tr>\n",
       "    <tr>\n",
       "      <th>1</th>\n",
       "      <td>GP</td>\n",
       "      <td>F</td>\n",
       "      <td>17</td>\n",
       "      <td>U</td>\n",
       "      <td>GT3</td>\n",
       "      <td>NaN</td>\n",
       "      <td>1.0</td>\n",
       "      <td>1.0</td>\n",
       "      <td>at_home</td>\n",
       "      <td>other</td>\n",
       "      <td>...</td>\n",
       "      <td>-6.0</td>\n",
       "      <td>yes</td>\n",
       "      <td>yes</td>\n",
       "      <td>no</td>\n",
       "      <td>5.0</td>\n",
       "      <td>3.0</td>\n",
       "      <td>3.0</td>\n",
       "      <td>3.0</td>\n",
       "      <td>4.0</td>\n",
       "      <td>30.0</td>\n",
       "    </tr>\n",
       "    <tr>\n",
       "      <th>2</th>\n",
       "      <td>GP</td>\n",
       "      <td>F</td>\n",
       "      <td>15</td>\n",
       "      <td>U</td>\n",
       "      <td>LE3</td>\n",
       "      <td>T</td>\n",
       "      <td>1.0</td>\n",
       "      <td>1.0</td>\n",
       "      <td>at_home</td>\n",
       "      <td>other</td>\n",
       "      <td>...</td>\n",
       "      <td>-6.0</td>\n",
       "      <td>yes</td>\n",
       "      <td>yes</td>\n",
       "      <td>NaN</td>\n",
       "      <td>4.0</td>\n",
       "      <td>3.0</td>\n",
       "      <td>2.0</td>\n",
       "      <td>3.0</td>\n",
       "      <td>10.0</td>\n",
       "      <td>50.0</td>\n",
       "    </tr>\n",
       "    <tr>\n",
       "      <th>3</th>\n",
       "      <td>GP</td>\n",
       "      <td>F</td>\n",
       "      <td>15</td>\n",
       "      <td>U</td>\n",
       "      <td>GT3</td>\n",
       "      <td>T</td>\n",
       "      <td>4.0</td>\n",
       "      <td>2.0</td>\n",
       "      <td>health</td>\n",
       "      <td>NaN</td>\n",
       "      <td>...</td>\n",
       "      <td>-9.0</td>\n",
       "      <td>yes</td>\n",
       "      <td>yes</td>\n",
       "      <td>yes</td>\n",
       "      <td>3.0</td>\n",
       "      <td>2.0</td>\n",
       "      <td>2.0</td>\n",
       "      <td>5.0</td>\n",
       "      <td>2.0</td>\n",
       "      <td>75.0</td>\n",
       "    </tr>\n",
       "    <tr>\n",
       "      <th>4</th>\n",
       "      <td>GP</td>\n",
       "      <td>F</td>\n",
       "      <td>16</td>\n",
       "      <td>U</td>\n",
       "      <td>GT3</td>\n",
       "      <td>T</td>\n",
       "      <td>3.0</td>\n",
       "      <td>3.0</td>\n",
       "      <td>other</td>\n",
       "      <td>other</td>\n",
       "      <td>...</td>\n",
       "      <td>-6.0</td>\n",
       "      <td>yes</td>\n",
       "      <td>no</td>\n",
       "      <td>no</td>\n",
       "      <td>4.0</td>\n",
       "      <td>3.0</td>\n",
       "      <td>2.0</td>\n",
       "      <td>5.0</td>\n",
       "      <td>4.0</td>\n",
       "      <td>50.0</td>\n",
       "    </tr>\n",
       "    <tr>\n",
       "      <th>...</th>\n",
       "      <td>...</td>\n",
       "      <td>...</td>\n",
       "      <td>...</td>\n",
       "      <td>...</td>\n",
       "      <td>...</td>\n",
       "      <td>...</td>\n",
       "      <td>...</td>\n",
       "      <td>...</td>\n",
       "      <td>...</td>\n",
       "      <td>...</td>\n",
       "      <td>...</td>\n",
       "      <td>...</td>\n",
       "      <td>...</td>\n",
       "      <td>...</td>\n",
       "      <td>...</td>\n",
       "      <td>...</td>\n",
       "      <td>...</td>\n",
       "      <td>...</td>\n",
       "      <td>...</td>\n",
       "      <td>...</td>\n",
       "      <td>...</td>\n",
       "    </tr>\n",
       "    <tr>\n",
       "      <th>390</th>\n",
       "      <td>MS</td>\n",
       "      <td>M</td>\n",
       "      <td>20</td>\n",
       "      <td>U</td>\n",
       "      <td>LE3</td>\n",
       "      <td>A</td>\n",
       "      <td>2.0</td>\n",
       "      <td>2.0</td>\n",
       "      <td>services</td>\n",
       "      <td>services</td>\n",
       "      <td>...</td>\n",
       "      <td>-6.0</td>\n",
       "      <td>yes</td>\n",
       "      <td>no</td>\n",
       "      <td>no</td>\n",
       "      <td>5.0</td>\n",
       "      <td>5.0</td>\n",
       "      <td>4.0</td>\n",
       "      <td>4.0</td>\n",
       "      <td>212.0</td>\n",
       "      <td>45.0</td>\n",
       "    </tr>\n",
       "    <tr>\n",
       "      <th>391</th>\n",
       "      <td>MS</td>\n",
       "      <td>M</td>\n",
       "      <td>17</td>\n",
       "      <td>U</td>\n",
       "      <td>LE3</td>\n",
       "      <td>T</td>\n",
       "      <td>3.0</td>\n",
       "      <td>1.0</td>\n",
       "      <td>services</td>\n",
       "      <td>services</td>\n",
       "      <td>...</td>\n",
       "      <td>-3.0</td>\n",
       "      <td>yes</td>\n",
       "      <td>yes</td>\n",
       "      <td>no</td>\n",
       "      <td>2.0</td>\n",
       "      <td>4.0</td>\n",
       "      <td>5.0</td>\n",
       "      <td>2.0</td>\n",
       "      <td>3.0</td>\n",
       "      <td>80.0</td>\n",
       "    </tr>\n",
       "    <tr>\n",
       "      <th>392</th>\n",
       "      <td>MS</td>\n",
       "      <td>M</td>\n",
       "      <td>21</td>\n",
       "      <td>R</td>\n",
       "      <td>GT3</td>\n",
       "      <td>T</td>\n",
       "      <td>1.0</td>\n",
       "      <td>1.0</td>\n",
       "      <td>other</td>\n",
       "      <td>other</td>\n",
       "      <td>...</td>\n",
       "      <td>-3.0</td>\n",
       "      <td>NaN</td>\n",
       "      <td>no</td>\n",
       "      <td>no</td>\n",
       "      <td>5.0</td>\n",
       "      <td>5.0</td>\n",
       "      <td>3.0</td>\n",
       "      <td>3.0</td>\n",
       "      <td>3.0</td>\n",
       "      <td>35.0</td>\n",
       "    </tr>\n",
       "    <tr>\n",
       "      <th>393</th>\n",
       "      <td>MS</td>\n",
       "      <td>M</td>\n",
       "      <td>18</td>\n",
       "      <td>R</td>\n",
       "      <td>LE3</td>\n",
       "      <td>T</td>\n",
       "      <td>3.0</td>\n",
       "      <td>2.0</td>\n",
       "      <td>services</td>\n",
       "      <td>other</td>\n",
       "      <td>...</td>\n",
       "      <td>-3.0</td>\n",
       "      <td>yes</td>\n",
       "      <td>yes</td>\n",
       "      <td>no</td>\n",
       "      <td>4.0</td>\n",
       "      <td>4.0</td>\n",
       "      <td>1.0</td>\n",
       "      <td>5.0</td>\n",
       "      <td>0.0</td>\n",
       "      <td>50.0</td>\n",
       "    </tr>\n",
       "    <tr>\n",
       "      <th>394</th>\n",
       "      <td>MS</td>\n",
       "      <td>M</td>\n",
       "      <td>19</td>\n",
       "      <td>U</td>\n",
       "      <td>LE3</td>\n",
       "      <td>T</td>\n",
       "      <td>1.0</td>\n",
       "      <td>1.0</td>\n",
       "      <td>other</td>\n",
       "      <td>at_home</td>\n",
       "      <td>...</td>\n",
       "      <td>-3.0</td>\n",
       "      <td>yes</td>\n",
       "      <td>yes</td>\n",
       "      <td>no</td>\n",
       "      <td>3.0</td>\n",
       "      <td>2.0</td>\n",
       "      <td>3.0</td>\n",
       "      <td>5.0</td>\n",
       "      <td>5.0</td>\n",
       "      <td>45.0</td>\n",
       "    </tr>\n",
       "  </tbody>\n",
       "</table>\n",
       "<p>395 rows × 30 columns</p>\n",
       "</div>"
      ],
      "text/plain": [
       "    school sex  age address famsize Pstatus  Medu  Fedu      Mjob      Fjob  \\\n",
       "0       GP   F   18       U     NaN       A   4.0   4.0   at_home   teacher   \n",
       "1       GP   F   17       U     GT3     NaN   1.0   1.0   at_home     other   \n",
       "2       GP   F   15       U     LE3       T   1.0   1.0   at_home     other   \n",
       "3       GP   F   15       U     GT3       T   4.0   2.0    health       NaN   \n",
       "4       GP   F   16       U     GT3       T   3.0   3.0     other     other   \n",
       "..     ...  ..  ...     ...     ...     ...   ...   ...       ...       ...   \n",
       "390     MS   M   20       U     LE3       A   2.0   2.0  services  services   \n",
       "391     MS   M   17       U     LE3       T   3.0   1.0  services  services   \n",
       "392     MS   M   21       R     GT3       T   1.0   1.0     other     other   \n",
       "393     MS   M   18       R     LE3       T   3.0   2.0  services     other   \n",
       "394     MS   M   19       U     LE3       T   1.0   1.0     other   at_home   \n",
       "\n",
       "     ... studytime, granular higher  internet  romantic  famrel freetime  \\\n",
       "0    ...                -6.0    yes       NaN        no     4.0      3.0   \n",
       "1    ...                -6.0    yes       yes        no     5.0      3.0   \n",
       "2    ...                -6.0    yes       yes       NaN     4.0      3.0   \n",
       "3    ...                -9.0    yes       yes       yes     3.0      2.0   \n",
       "4    ...                -6.0    yes        no        no     4.0      3.0   \n",
       "..   ...                 ...    ...       ...       ...     ...      ...   \n",
       "390  ...                -6.0    yes        no        no     5.0      5.0   \n",
       "391  ...                -3.0    yes       yes        no     2.0      4.0   \n",
       "392  ...                -3.0    NaN        no        no     5.0      5.0   \n",
       "393  ...                -3.0    yes       yes        no     4.0      4.0   \n",
       "394  ...                -3.0    yes       yes        no     3.0      2.0   \n",
       "\n",
       "    goout health absences score  \n",
       "0     4.0    3.0      6.0  30.0  \n",
       "1     3.0    3.0      4.0  30.0  \n",
       "2     2.0    3.0     10.0  50.0  \n",
       "3     2.0    5.0      2.0  75.0  \n",
       "4     2.0    5.0      4.0  50.0  \n",
       "..    ...    ...      ...   ...  \n",
       "390   4.0    4.0    212.0  45.0  \n",
       "391   5.0    2.0      3.0  80.0  \n",
       "392   3.0    3.0      3.0  35.0  \n",
       "393   1.0    5.0      0.0  50.0  \n",
       "394   3.0    5.0      5.0  45.0  \n",
       "\n",
       "[395 rows x 30 columns]"
      ]
     },
     "metadata": {},
     "output_type": "display_data"
    },
    {
     "name": "stdout",
     "output_type": "stream",
     "text": [
      "<class 'pandas.core.frame.DataFrame'>\n",
      "RangeIndex: 395 entries, 0 to 394\n",
      "Data columns (total 30 columns):\n",
      " #   Column               Non-Null Count  Dtype  \n",
      "---  ------               --------------  -----  \n",
      " 0   school               395 non-null    object \n",
      " 1   sex                  395 non-null    object \n",
      " 2   age                  395 non-null    int64  \n",
      " 3   address              378 non-null    object \n",
      " 4   famsize              368 non-null    object \n",
      " 5   Pstatus              350 non-null    object \n",
      " 6   Medu                 392 non-null    float64\n",
      " 7   Fedu                 371 non-null    float64\n",
      " 8   Mjob                 376 non-null    object \n",
      " 9   Fjob                 359 non-null    object \n",
      " 10  reason               378 non-null    object \n",
      " 11  guardian             364 non-null    object \n",
      " 12  traveltime           367 non-null    float64\n",
      " 13  studytime            388 non-null    float64\n",
      " 14  failures             373 non-null    float64\n",
      " 15  schoolsup            386 non-null    object \n",
      " 16  famsup               356 non-null    object \n",
      " 17  paid                 355 non-null    object \n",
      " 18  activities           381 non-null    object \n",
      " 19  nursery              379 non-null    object \n",
      " 20  studytime, granular  388 non-null    float64\n",
      " 21  higher               375 non-null    object \n",
      " 22  internet             361 non-null    object \n",
      " 23  romantic             364 non-null    object \n",
      " 24  famrel               368 non-null    float64\n",
      " 25  freetime             384 non-null    float64\n",
      " 26  goout                387 non-null    float64\n",
      " 27  health               380 non-null    float64\n",
      " 28  absences             383 non-null    float64\n",
      " 29  score                389 non-null    float64\n",
      "dtypes: float64(12), int64(1), object(17)\n",
      "memory usage: 92.7+ KB\n"
     ]
    }
   ],
   "source": [
    "display(students)\n",
    "students.info() "
   ]
  },
  {
   "cell_type": "markdown",
   "metadata": {},
   "source": [
    "# столбец school"
   ]
  },
  {
   "cell_type": "code",
   "execution_count": 14,
   "metadata": {},
   "outputs": [
    {
     "name": "stdout",
     "output_type": "stream",
     "text": [
      "2\n"
     ]
    },
    {
     "data": {
      "text/plain": [
       "<AxesSubplot:>"
      ]
     },
     "execution_count": 14,
     "metadata": {},
     "output_type": "execute_result"
    },
    {
     "data": {
      "image/png": "[encoded data removed]",
      "text/plain": [
       "<Figure size 432x288 with 1 Axes>"
      ]
     },
     "metadata": {
      "needs_background": "light"
     },
     "output_type": "display_data"
    }
   ],
   "source": [
    "print(students.school.nunique())#смотрим уникальные значения\n",
    "students.school.hist()#строим график "
   ]
  },
  {
   "cell_type": "markdown",
   "metadata": {},
   "source": [
    "# Столбец sex "
   ]
  },
  {
   "cell_type": "code",
   "execution_count": 7,
   "metadata": {},
   "outputs": [
    {
     "name": "stdout",
     "output_type": "stream",
     "text": [
      "2\n"
     ]
    },
    {
     "data": {
      "text/plain": [
       "<AxesSubplot:>"
      ]
     },
     "execution_count": 7,
     "metadata": {},
     "output_type": "execute_result"
    },
    {
     "data": {
      "image/png": "[encoded data removed]",
      "text/plain": [
       "<Figure size 432x288 with 1 Axes>"
      ]
     },
     "metadata": {
      "needs_background": "light"
     },
     "output_type": "display_data"
    }
   ],
   "source": [
    "print(students.sex.nunique())\n",
    "students.sex.hist()"
   ]
  },
  {
   "cell_type": "markdown",
   "metadata": {},
   "source": [
    "# Столбец age "
   ]
  },
  {
   "cell_type": "code",
   "execution_count": 8,
   "metadata": {},
   "outputs": [
    {
     "data": {
      "text/plain": [
       "count    395.000000\n",
       "mean      16.696203\n",
       "std        1.276043\n",
       "min       15.000000\n",
       "25%       16.000000\n",
       "50%       17.000000\n",
       "75%       18.000000\n",
       "max       22.000000\n",
       "Name: age, dtype: float64"
      ]
     },
     "execution_count": 8,
     "metadata": {},
     "output_type": "execute_result"
    },
    {
     "data": {
      "image/png": "[encoded data removed]",
      "text/plain": [
       "<Figure size 432x288 with 1 Axes>"
      ]
     },
     "metadata": {
      "needs_background": "light"
     },
     "output_type": "display_data"
    }
   ],
   "source": [
    "students.age.hist()\n",
    "students.age.describe()#узнаем некоторые статистические данные колонки age"
   ]
  },
  {
   "cell_type": "markdown",
   "metadata": {},
   "source": [
    "# столбец address "
   ]
  },
  {
   "cell_type": "code",
   "execution_count": 10,
   "metadata": {},
   "outputs": [
    {
     "name": "stdout",
     "output_type": "stream",
     "text": [
      "2\n"
     ]
    },
    {
     "data": {
      "text/plain": [
       "<AxesSubplot:>"
      ]
     },
     "execution_count": 10,
     "metadata": {},
     "output_type": "execute_result"
    },
    {
     "data": {
      "image/png": "[encoded data removed]",
      "text/plain": [
       "<Figure size 432x288 with 1 Axes>"
      ]
     },
     "metadata": {
      "needs_background": "light"
     },
     "output_type": "display_data"
    }
   ],
   "source": [
    "print(students.address.nunique())\n",
    "students.address.hist()#наибольшее количество городских учеников, в данном столбце есть пропуски"
   ]
  },
  {
   "cell_type": "code",
   "execution_count": 26,
   "metadata": {},
   "outputs": [
    {
     "data": {
      "text/html": [
       "<div>\n",
       "<style scoped>\n",
       "    .dataframe tbody tr th:only-of-type {\n",
       "        vertical-align: middle;\n",
       "    }\n",
       "\n",
       "    .dataframe tbody tr th {\n",
       "        vertical-align: top;\n",
       "    }\n",
       "\n",
       "    .dataframe thead th {\n",
       "        text-align: right;\n",
       "    }\n",
       "</style>\n",
       "<table border=\"1\" class=\"dataframe\">\n",
       "  <thead>\n",
       "    <tr style=\"text-align: right;\">\n",
       "      <th></th>\n",
       "      <th>school</th>\n",
       "      <th>sex</th>\n",
       "      <th>age</th>\n",
       "      <th>address</th>\n",
       "      <th>famsize</th>\n",
       "      <th>Pstatus</th>\n",
       "      <th>Medu</th>\n",
       "      <th>Fedu</th>\n",
       "      <th>Mjob</th>\n",
       "      <th>Fjob</th>\n",
       "      <th>...</th>\n",
       "      <th>studytime, granular</th>\n",
       "      <th>higher</th>\n",
       "      <th>internet</th>\n",
       "      <th>romantic</th>\n",
       "      <th>famrel</th>\n",
       "      <th>freetime</th>\n",
       "      <th>goout</th>\n",
       "      <th>health</th>\n",
       "      <th>absences</th>\n",
       "      <th>score</th>\n",
       "    </tr>\n",
       "  </thead>\n",
       "  <tbody>\n",
       "    <tr>\n",
       "      <th>0</th>\n",
       "      <td>GP</td>\n",
       "      <td>F</td>\n",
       "      <td>18</td>\n",
       "      <td>U</td>\n",
       "      <td>0</td>\n",
       "      <td>A</td>\n",
       "      <td>4.0</td>\n",
       "      <td>4.0</td>\n",
       "      <td>at_home</td>\n",
       "      <td>teacher</td>\n",
       "      <td>...</td>\n",
       "      <td>-6.0</td>\n",
       "      <td>yes</td>\n",
       "      <td>0</td>\n",
       "      <td>no</td>\n",
       "      <td>4.0</td>\n",
       "      <td>3.0</td>\n",
       "      <td>4.0</td>\n",
       "      <td>3.0</td>\n",
       "      <td>6.0</td>\n",
       "      <td>30.0</td>\n",
       "    </tr>\n",
       "    <tr>\n",
       "      <th>1</th>\n",
       "      <td>GP</td>\n",
       "      <td>F</td>\n",
       "      <td>17</td>\n",
       "      <td>U</td>\n",
       "      <td>GT3</td>\n",
       "      <td>0</td>\n",
       "      <td>1.0</td>\n",
       "      <td>1.0</td>\n",
       "      <td>at_home</td>\n",
       "      <td>other</td>\n",
       "      <td>...</td>\n",
       "      <td>-6.0</td>\n",
       "      <td>yes</td>\n",
       "      <td>yes</td>\n",
       "      <td>no</td>\n",
       "      <td>5.0</td>\n",
       "      <td>3.0</td>\n",
       "      <td>3.0</td>\n",
       "      <td>3.0</td>\n",
       "      <td>4.0</td>\n",
       "      <td>30.0</td>\n",
       "    </tr>\n",
       "    <tr>\n",
       "      <th>2</th>\n",
       "      <td>GP</td>\n",
       "      <td>F</td>\n",
       "      <td>15</td>\n",
       "      <td>U</td>\n",
       "      <td>LE3</td>\n",
       "      <td>T</td>\n",
       "      <td>1.0</td>\n",
       "      <td>1.0</td>\n",
       "      <td>at_home</td>\n",
       "      <td>other</td>\n",
       "      <td>...</td>\n",
       "      <td>-6.0</td>\n",
       "      <td>yes</td>\n",
       "      <td>yes</td>\n",
       "      <td>0</td>\n",
       "      <td>4.0</td>\n",
       "      <td>3.0</td>\n",
       "      <td>2.0</td>\n",
       "      <td>3.0</td>\n",
       "      <td>10.0</td>\n",
       "      <td>50.0</td>\n",
       "    </tr>\n",
       "    <tr>\n",
       "      <th>3</th>\n",
       "      <td>GP</td>\n",
       "      <td>F</td>\n",
       "      <td>15</td>\n",
       "      <td>U</td>\n",
       "      <td>GT3</td>\n",
       "      <td>T</td>\n",
       "      <td>4.0</td>\n",
       "      <td>2.0</td>\n",
       "      <td>health</td>\n",
       "      <td>0</td>\n",
       "      <td>...</td>\n",
       "      <td>-9.0</td>\n",
       "      <td>yes</td>\n",
       "      <td>yes</td>\n",
       "      <td>yes</td>\n",
       "      <td>3.0</td>\n",
       "      <td>2.0</td>\n",
       "      <td>2.0</td>\n",
       "      <td>5.0</td>\n",
       "      <td>2.0</td>\n",
       "      <td>75.0</td>\n",
       "    </tr>\n",
       "    <tr>\n",
       "      <th>4</th>\n",
       "      <td>GP</td>\n",
       "      <td>F</td>\n",
       "      <td>16</td>\n",
       "      <td>U</td>\n",
       "      <td>GT3</td>\n",
       "      <td>T</td>\n",
       "      <td>3.0</td>\n",
       "      <td>3.0</td>\n",
       "      <td>other</td>\n",
       "      <td>other</td>\n",
       "      <td>...</td>\n",
       "      <td>-6.0</td>\n",
       "      <td>yes</td>\n",
       "      <td>no</td>\n",
       "      <td>no</td>\n",
       "      <td>4.0</td>\n",
       "      <td>3.0</td>\n",
       "      <td>2.0</td>\n",
       "      <td>5.0</td>\n",
       "      <td>4.0</td>\n",
       "      <td>50.0</td>\n",
       "    </tr>\n",
       "    <tr>\n",
       "      <th>...</th>\n",
       "      <td>...</td>\n",
       "      <td>...</td>\n",
       "      <td>...</td>\n",
       "      <td>...</td>\n",
       "      <td>...</td>\n",
       "      <td>...</td>\n",
       "      <td>...</td>\n",
       "      <td>...</td>\n",
       "      <td>...</td>\n",
       "      <td>...</td>\n",
       "      <td>...</td>\n",
       "      <td>...</td>\n",
       "      <td>...</td>\n",
       "      <td>...</td>\n",
       "      <td>...</td>\n",
       "      <td>...</td>\n",
       "      <td>...</td>\n",
       "      <td>...</td>\n",
       "      <td>...</td>\n",
       "      <td>...</td>\n",
       "      <td>...</td>\n",
       "    </tr>\n",
       "    <tr>\n",
       "      <th>390</th>\n",
       "      <td>MS</td>\n",
       "      <td>M</td>\n",
       "      <td>20</td>\n",
       "      <td>U</td>\n",
       "      <td>LE3</td>\n",
       "      <td>A</td>\n",
       "      <td>2.0</td>\n",
       "      <td>2.0</td>\n",
       "      <td>services</td>\n",
       "      <td>services</td>\n",
       "      <td>...</td>\n",
       "      <td>-6.0</td>\n",
       "      <td>yes</td>\n",
       "      <td>no</td>\n",
       "      <td>no</td>\n",
       "      <td>5.0</td>\n",
       "      <td>5.0</td>\n",
       "      <td>4.0</td>\n",
       "      <td>4.0</td>\n",
       "      <td>212.0</td>\n",
       "      <td>45.0</td>\n",
       "    </tr>\n",
       "    <tr>\n",
       "      <th>391</th>\n",
       "      <td>MS</td>\n",
       "      <td>M</td>\n",
       "      <td>17</td>\n",
       "      <td>U</td>\n",
       "      <td>LE3</td>\n",
       "      <td>T</td>\n",
       "      <td>3.0</td>\n",
       "      <td>1.0</td>\n",
       "      <td>services</td>\n",
       "      <td>services</td>\n",
       "      <td>...</td>\n",
       "      <td>-3.0</td>\n",
       "      <td>yes</td>\n",
       "      <td>yes</td>\n",
       "      <td>no</td>\n",
       "      <td>2.0</td>\n",
       "      <td>4.0</td>\n",
       "      <td>5.0</td>\n",
       "      <td>2.0</td>\n",
       "      <td>3.0</td>\n",
       "      <td>80.0</td>\n",
       "    </tr>\n",
       "    <tr>\n",
       "      <th>392</th>\n",
       "      <td>MS</td>\n",
       "      <td>M</td>\n",
       "      <td>21</td>\n",
       "      <td>R</td>\n",
       "      <td>GT3</td>\n",
       "      <td>T</td>\n",
       "      <td>1.0</td>\n",
       "      <td>1.0</td>\n",
       "      <td>other</td>\n",
       "      <td>other</td>\n",
       "      <td>...</td>\n",
       "      <td>-3.0</td>\n",
       "      <td>0</td>\n",
       "      <td>no</td>\n",
       "      <td>no</td>\n",
       "      <td>5.0</td>\n",
       "      <td>5.0</td>\n",
       "      <td>3.0</td>\n",
       "      <td>3.0</td>\n",
       "      <td>3.0</td>\n",
       "      <td>35.0</td>\n",
       "    </tr>\n",
       "    <tr>\n",
       "      <th>393</th>\n",
       "      <td>MS</td>\n",
       "      <td>M</td>\n",
       "      <td>18</td>\n",
       "      <td>R</td>\n",
       "      <td>LE3</td>\n",
       "      <td>T</td>\n",
       "      <td>3.0</td>\n",
       "      <td>2.0</td>\n",
       "      <td>services</td>\n",
       "      <td>other</td>\n",
       "      <td>...</td>\n",
       "      <td>-3.0</td>\n",
       "      <td>yes</td>\n",
       "      <td>yes</td>\n",
       "      <td>no</td>\n",
       "      <td>4.0</td>\n",
       "      <td>4.0</td>\n",
       "      <td>1.0</td>\n",
       "      <td>5.0</td>\n",
       "      <td>0.0</td>\n",
       "      <td>50.0</td>\n",
       "    </tr>\n",
       "    <tr>\n",
       "      <th>394</th>\n",
       "      <td>MS</td>\n",
       "      <td>M</td>\n",
       "      <td>19</td>\n",
       "      <td>U</td>\n",
       "      <td>LE3</td>\n",
       "      <td>T</td>\n",
       "      <td>1.0</td>\n",
       "      <td>1.0</td>\n",
       "      <td>other</td>\n",
       "      <td>at_home</td>\n",
       "      <td>...</td>\n",
       "      <td>-3.0</td>\n",
       "      <td>yes</td>\n",
       "      <td>yes</td>\n",
       "      <td>no</td>\n",
       "      <td>3.0</td>\n",
       "      <td>2.0</td>\n",
       "      <td>3.0</td>\n",
       "      <td>5.0</td>\n",
       "      <td>5.0</td>\n",
       "      <td>45.0</td>\n",
       "    </tr>\n",
       "  </tbody>\n",
       "</table>\n",
       "<p>395 rows × 30 columns</p>\n",
       "</div>"
      ],
      "text/plain": [
       "    school sex  age address famsize Pstatus  Medu  Fedu      Mjob      Fjob  \\\n",
       "0       GP   F   18       U       0       A   4.0   4.0   at_home   teacher   \n",
       "1       GP   F   17       U     GT3       0   1.0   1.0   at_home     other   \n",
       "2       GP   F   15       U     LE3       T   1.0   1.0   at_home     other   \n",
       "3       GP   F   15       U     GT3       T   4.0   2.0    health         0   \n",
       "4       GP   F   16       U     GT3       T   3.0   3.0     other     other   \n",
       "..     ...  ..  ...     ...     ...     ...   ...   ...       ...       ...   \n",
       "390     MS   M   20       U     LE3       A   2.0   2.0  services  services   \n",
       "391     MS   M   17       U     LE3       T   3.0   1.0  services  services   \n",
       "392     MS   M   21       R     GT3       T   1.0   1.0     other     other   \n",
       "393     MS   M   18       R     LE3       T   3.0   2.0  services     other   \n",
       "394     MS   M   19       U     LE3       T   1.0   1.0     other   at_home   \n",
       "\n",
       "     ... studytime, granular higher  internet  romantic  famrel freetime  \\\n",
       "0    ...                -6.0    yes         0        no     4.0      3.0   \n",
       "1    ...                -6.0    yes       yes        no     5.0      3.0   \n",
       "2    ...                -6.0    yes       yes         0     4.0      3.0   \n",
       "3    ...                -9.0    yes       yes       yes     3.0      2.0   \n",
       "4    ...                -6.0    yes        no        no     4.0      3.0   \n",
       "..   ...                 ...    ...       ...       ...     ...      ...   \n",
       "390  ...                -6.0    yes        no        no     5.0      5.0   \n",
       "391  ...                -3.0    yes       yes        no     2.0      4.0   \n",
       "392  ...                -3.0      0        no        no     5.0      5.0   \n",
       "393  ...                -3.0    yes       yes        no     4.0      4.0   \n",
       "394  ...                -3.0    yes       yes        no     3.0      2.0   \n",
       "\n",
       "    goout health absences score  \n",
       "0     4.0    3.0      6.0  30.0  \n",
       "1     3.0    3.0      4.0  30.0  \n",
       "2     2.0    3.0     10.0  50.0  \n",
       "3     2.0    5.0      2.0  75.0  \n",
       "4     2.0    5.0      4.0  50.0  \n",
       "..    ...    ...      ...   ...  \n",
       "390   4.0    4.0    212.0  45.0  \n",
       "391   5.0    2.0      3.0  80.0  \n",
       "392   3.0    3.0      3.0  35.0  \n",
       "393   1.0    5.0      0.0  50.0  \n",
       "394   3.0    5.0      5.0  45.0  \n",
       "\n",
       "[395 rows x 30 columns]"
      ]
     },
     "execution_count": 26,
     "metadata": {},
     "output_type": "execute_result"
    }
   ],
   "source": [
    "students.fillna(0)#заменим все значения Nan на 0"
   ]
  },
  {
   "cell_type": "markdown",
   "metadata": {},
   "source": [
    "# столбец famsize"
   ]
  },
  {
   "cell_type": "code",
   "execution_count": 27,
   "metadata": {},
   "outputs": [
    {
     "name": "stdout",
     "output_type": "stream",
     "text": [
      "2\n"
     ]
    },
    {
     "data": {
      "text/plain": [
       "<AxesSubplot:>"
      ]
     },
     "execution_count": 27,
     "metadata": {},
     "output_type": "execute_result"
    },
    {
     "data": {
      "image/png": "[encoded data removed]",
      "text/plain": [
       "<Figure size 432x288 with 1 Axes>"
      ]
     },
     "metadata": {
      "needs_background": "light"
     },
     "output_type": "display_data"
    }
   ],
   "source": [
    "print(students.famsize.nunique())\n",
    "students.famsize.hist()"
   ]
  },
  {
   "cell_type": "markdown",
   "metadata": {},
   "source": [
    "# столбец Pstatus "
   ]
  },
  {
   "cell_type": "code",
   "execution_count": 28,
   "metadata": {},
   "outputs": [
    {
     "name": "stdout",
     "output_type": "stream",
     "text": [
      "2\n"
     ]
    },
    {
     "data": {
      "text/plain": [
       "<AxesSubplot:>"
      ]
     },
     "execution_count": 28,
     "metadata": {},
     "output_type": "execute_result"
    },
    {
     "data": {
      "image/png": "[encoded data removed]",
      "text/plain": [
       "<Figure size 432x288 with 1 Axes>"
      ]
     },
     "metadata": {
      "needs_background": "light"
     },
     "output_type": "display_data"
    }
   ],
   "source": [
    "print(students.Pstatus.nunique())\n",
    "students.Pstatus.hist()"
   ]
  },
  {
   "cell_type": "markdown",
   "metadata": {},
   "source": [
    "# столбец  Medu "
   ]
  },
  {
   "cell_type": "code",
   "execution_count": 33,
   "metadata": {},
   "outputs": [
    {
     "data": {
      "text/plain": [
       "count    392.000000\n",
       "mean       2.750000\n",
       "std        1.098127\n",
       "min        0.000000\n",
       "25%        2.000000\n",
       "50%        3.000000\n",
       "75%        4.000000\n",
       "max        4.000000\n",
       "Name: Medu, dtype: float64"
      ]
     },
     "execution_count": 33,
     "metadata": {},
     "output_type": "execute_result"
    },
    {
     "data": {
      "image/png": "[encoded data removed]",
      "text/plain": [
       "<Figure size 432x288 with 1 Axes>"
      ]
     },
     "metadata": {
      "needs_background": "light"
     },
     "output_type": "display_data"
    }
   ],
   "source": [
    "students.Medu.hist()\n",
    "students.Medu.describe()"
   ]
  },
  {
   "cell_type": "markdown",
   "metadata": {},
   "source": [
    "У большщинства мам высшее образование"
   ]
  },
  {
   "cell_type": "markdown",
   "metadata": {},
   "source": [
    "# столбец Fedu"
   ]
  },
  {
   "cell_type": "code",
   "execution_count": 35,
   "metadata": {},
   "outputs": [
    {
     "data": {
      "text/plain": [
       "count    371.000000\n",
       "mean       2.614555\n",
       "std        2.228732\n",
       "min        0.000000\n",
       "25%        2.000000\n",
       "50%        2.000000\n",
       "75%        3.000000\n",
       "max       40.000000\n",
       "Name: Fedu, dtype: float64"
      ]
     },
     "execution_count": 35,
     "metadata": {},
     "output_type": "execute_result"
    },
    {
     "data": {
      "image/png": "[encoded data removed]",
      "text/plain": [
       "<Figure size 432x288 with 1 Axes>"
      ]
     },
     "metadata": {
      "needs_background": "light"
     },
     "output_type": "display_data"
    }
   ],
   "source": [
    "students.Fedu.hist(range = (0,5))\n",
    "students.Fedu.describe()"
   ]
  },
  {
   "cell_type": "markdown",
   "metadata": {},
   "source": [
    "У большинства пап образование 5-9 классов"
   ]
  },
  {
   "cell_type": "markdown",
   "metadata": {},
   "source": [
    "# столбец Mjob"
   ]
  },
  {
   "cell_type": "code",
   "execution_count": 36,
   "metadata": {},
   "outputs": [
    {
     "name": "stdout",
     "output_type": "stream",
     "text": [
      "5\n"
     ]
    },
    {
     "data": {
      "image/png": "[encoded data removed]",
      "text/plain": [
       "<Figure size 432x288 with 1 Axes>"
      ]
     },
     "metadata": {
      "needs_background": "light"
     },
     "output_type": "display_data"
    }
   ],
   "source": [
    "students.Mjob.hist()\n",
    "print(students.Mjob.nunique())"
   ]
  },
  {
   "cell_type": "markdown",
   "metadata": {},
   "source": [
    "# столбец Fjob"
   ]
  },
  {
   "cell_type": "code",
   "execution_count": 37,
   "metadata": {},
   "outputs": [
    {
     "name": "stdout",
     "output_type": "stream",
     "text": [
      "5\n"
     ]
    },
    {
     "data": {
      "image/png": "[encoded data removed]",
      "text/plain": [
       "<Figure size 432x288 with 1 Axes>"
      ]
     },
     "metadata": {
      "needs_background": "light"
     },
     "output_type": "display_data"
    }
   ],
   "source": [
    "students.Fjob.hist()\n",
    "print(students.Fjob.nunique())"
   ]
  },
  {
   "cell_type": "markdown",
   "metadata": {},
   "source": [
    "# столбец reason "
   ]
  },
  {
   "cell_type": "code",
   "execution_count": 38,
   "metadata": {},
   "outputs": [
    {
     "name": "stdout",
     "output_type": "stream",
     "text": [
      "4\n"
     ]
    },
    {
     "data": {
      "image/png": "[encoded data removed]",
      "text/plain": [
       "<Figure size 432x288 with 1 Axes>"
      ]
     },
     "metadata": {
      "needs_background": "light"
     },
     "output_type": "display_data"
    }
   ],
   "source": [
    "students.reason.hist()\n",
    "print(students.reason.nunique())"
   ]
  },
  {
   "cell_type": "markdown",
   "metadata": {},
   "source": [
    "# столбец guardian"
   ]
  },
  {
   "cell_type": "code",
   "execution_count": 39,
   "metadata": {},
   "outputs": [
    {
     "name": "stdout",
     "output_type": "stream",
     "text": [
      "3\n"
     ]
    },
    {
     "data": {
      "image/png": "[encoded data removed]",
      "text/plain": [
       "<Figure size 432x288 with 1 Axes>"
      ]
     },
     "metadata": {
      "needs_background": "light"
     },
     "output_type": "display_data"
    }
   ],
   "source": [
    "students.guardian.hist()\n",
    "print(students.guardian.nunique())"
   ]
  },
  {
   "cell_type": "markdown",
   "metadata": {},
   "source": [
    "# столбец  traveltime "
   ]
  },
  {
   "cell_type": "code",
   "execution_count": 40,
   "metadata": {},
   "outputs": [
    {
     "data": {
      "text/plain": [
       "count    367.000000\n",
       "mean       1.438692\n",
       "std        0.694181\n",
       "min        1.000000\n",
       "25%        1.000000\n",
       "50%        1.000000\n",
       "75%        2.000000\n",
       "max        4.000000\n",
       "Name: traveltime, dtype: float64"
      ]
     },
     "execution_count": 40,
     "metadata": {},
     "output_type": "execute_result"
    },
    {
     "data": {
      "image/png": "[encoded data removed]",
      "text/plain": [
       "<Figure size 432x288 with 1 Axes>"
      ]
     },
     "metadata": {
      "needs_background": "light"
     },
     "output_type": "display_data"
    }
   ],
   "source": [
    "students.traveltime.hist(range = (0,5))\n",
    "students.traveltime.describe()"
   ]
  },
  {
   "cell_type": "markdown",
   "metadata": {},
   "source": [
    "наибольшее время пути до школы  <15 мин."
   ]
  },
  {
   "cell_type": "markdown",
   "metadata": {},
   "source": [
    "# столбец studytime"
   ]
  },
  {
   "cell_type": "code",
   "execution_count": 41,
   "metadata": {},
   "outputs": [
    {
     "data": {
      "text/plain": [
       "count    388.000000\n",
       "mean       2.038660\n",
       "std        0.842078\n",
       "min        1.000000\n",
       "25%        1.000000\n",
       "50%        2.000000\n",
       "75%        2.000000\n",
       "max        4.000000\n",
       "Name: studytime, dtype: float64"
      ]
     },
     "execution_count": 41,
     "metadata": {},
     "output_type": "execute_result"
    },
    {
     "data": {
      "image/png": "[encoded data removed]",
      "text/plain": [
       "<Figure size 432x288 with 1 Axes>"
      ]
     },
     "metadata": {
      "needs_background": "light"
     },
     "output_type": "display_data"
    }
   ],
   "source": [
    "students.studytime.hist(range = (0,5))\n",
    "students.studytime.describe()"
   ]
  },
  {
   "cell_type": "markdown",
   "metadata": {},
   "source": [
    "Большинство учеников тратят 2-5 часов на учёбу помимо школы в неделю"
   ]
  },
  {
   "cell_type": "markdown",
   "metadata": {},
   "source": [
    "# столбец failures"
   ]
  },
  {
   "cell_type": "code",
   "execution_count": 44,
   "metadata": {},
   "outputs": [
    {
     "data": {
      "text/plain": [
       "count    388.000000\n",
       "mean       2.038660\n",
       "std        0.842078\n",
       "min        1.000000\n",
       "25%        1.000000\n",
       "50%        2.000000\n",
       "75%        2.000000\n",
       "max        4.000000\n",
       "Name: studytime, dtype: float64"
      ]
     },
     "execution_count": 44,
     "metadata": {},
     "output_type": "execute_result"
    },
    {
     "data": {
      "image/png": "[encoded data removed]",
      "text/plain": [
       "<Figure size 432x288 with 1 Axes>"
      ]
     },
     "metadata": {
      "needs_background": "light"
     },
     "output_type": "display_data"
    }
   ],
   "source": [
    "students.failures.hist()\n",
    "students.studytime.describe()"
   ]
  },
  {
   "cell_type": "markdown",
   "metadata": {},
   "source": [
    "Наибольшее количество внеучебных неудач 0"
   ]
  },
  {
   "cell_type": "markdown",
   "metadata": {},
   "source": [
    "# столбец schoolsup"
   ]
  },
  {
   "cell_type": "code",
   "execution_count": 45,
   "metadata": {},
   "outputs": [
    {
     "name": "stdout",
     "output_type": "stream",
     "text": [
      "2\n"
     ]
    },
    {
     "data": {
      "image/png": "[encoded data removed]",
      "text/plain": [
       "<Figure size 432x288 with 1 Axes>"
      ]
     },
     "metadata": {
      "needs_background": "light"
     },
     "output_type": "display_data"
    }
   ],
   "source": [
    "students.schoolsup.hist()\n",
    "print(students.schoolsup.nunique())"
   ]
  },
  {
   "cell_type": "markdown",
   "metadata": {},
   "source": [
    "# столбец famsup "
   ]
  },
  {
   "cell_type": "code",
   "execution_count": 46,
   "metadata": {},
   "outputs": [
    {
     "name": "stdout",
     "output_type": "stream",
     "text": [
      "2\n"
     ]
    },
    {
     "data": {
      "image/png": "[encoded data removed]",
      "text/plain": [
       "<Figure size 432x288 with 1 Axes>"
      ]
     },
     "metadata": {
      "needs_background": "light"
     },
     "output_type": "display_data"
    }
   ],
   "source": [
    "students.famsup.hist()\n",
    "print(students.famsup.nunique())"
   ]
  },
  {
   "cell_type": "markdown",
   "metadata": {},
   "source": [
    "# столбец paid"
   ]
  },
  {
   "cell_type": "code",
   "execution_count": 47,
   "metadata": {},
   "outputs": [
    {
     "name": "stdout",
     "output_type": "stream",
     "text": [
      "2\n"
     ]
    },
    {
     "data": {
      "image/png": "[encoded data removed]",
      "text/plain": [
       "<Figure size 432x288 with 1 Axes>"
      ]
     },
     "metadata": {
      "needs_background": "light"
     },
     "output_type": "display_data"
    }
   ],
   "source": [
    "students.paid.hist()\n",
    "print(students.paid.nunique())"
   ]
  },
  {
   "cell_type": "markdown",
   "metadata": {},
   "source": [
    "# столбец activities"
   ]
  },
  {
   "cell_type": "code",
   "execution_count": 48,
   "metadata": {},
   "outputs": [
    {
     "name": "stdout",
     "output_type": "stream",
     "text": [
      "2\n"
     ]
    },
    {
     "data": {
      "image/png": "[encoded data removed]",
      "text/plain": [
       "<Figure size 432x288 with 1 Axes>"
      ]
     },
     "metadata": {
      "needs_background": "light"
     },
     "output_type": "display_data"
    }
   ],
   "source": [
    "students.activities.hist()\n",
    "print(students.activities.nunique())"
   ]
  },
  {
   "cell_type": "markdown",
   "metadata": {},
   "source": [
    "# столбец nursery"
   ]
  },
  {
   "cell_type": "code",
   "execution_count": 49,
   "metadata": {},
   "outputs": [
    {
     "name": "stdout",
     "output_type": "stream",
     "text": [
      "2\n"
     ]
    },
    {
     "data": {
      "image/png": "[encoded data removed]",
      "text/plain": [
       "<Figure size 432x288 with 1 Axes>"
      ]
     },
     "metadata": {
      "needs_background": "light"
     },
     "output_type": "display_data"
    }
   ],
   "source": [
    "students.nursery.hist()\n",
    "print(students.nursery.nunique())"
   ]
  },
  {
   "cell_type": "markdown",
   "metadata": {},
   "source": [
    "# столбец higher"
   ]
  },
  {
   "cell_type": "code",
   "execution_count": 50,
   "metadata": {},
   "outputs": [
    {
     "name": "stdout",
     "output_type": "stream",
     "text": [
      "2\n"
     ]
    },
    {
     "data": {
      "image/png": "[encoded data removed]",
      "text/plain": [
       "<Figure size 432x288 with 1 Axes>"
      ]
     },
     "metadata": {
      "needs_background": "light"
     },
     "output_type": "display_data"
    }
   ],
   "source": [
    "students.higher.hist()\n",
    "print(students.higher.nunique())"
   ]
  },
  {
   "cell_type": "markdown",
   "metadata": {},
   "source": [
    "# столбец internet "
   ]
  },
  {
   "cell_type": "code",
   "execution_count": 51,
   "metadata": {},
   "outputs": [
    {
     "name": "stdout",
     "output_type": "stream",
     "text": [
      "2\n"
     ]
    },
    {
     "data": {
      "image/png": "[encoded data removed]",
      "text/plain": [
       "<Figure size 432x288 with 1 Axes>"
      ]
     },
     "metadata": {
      "needs_background": "light"
     },
     "output_type": "display_data"
    }
   ],
   "source": [
    "students.internet.hist()\n",
    "print(students.internet.nunique())"
   ]
  },
  {
   "cell_type": "markdown",
   "metadata": {},
   "source": [
    "# столбец romantic"
   ]
  },
  {
   "cell_type": "code",
   "execution_count": 52,
   "metadata": {},
   "outputs": [
    {
     "name": "stdout",
     "output_type": "stream",
     "text": [
      "2\n"
     ]
    },
    {
     "data": {
      "image/png": "[encoded data removed]",
      "text/plain": [
       "<Figure size 432x288 with 1 Axes>"
      ]
     },
     "metadata": {
      "needs_background": "light"
     },
     "output_type": "display_data"
    }
   ],
   "source": [
    "students.romantic.hist()\n",
    "print(students.romantic.nunique())"
   ]
  },
  {
   "cell_type": "markdown",
   "metadata": {},
   "source": [
    "# столбец famrel"
   ]
  },
  {
   "cell_type": "code",
   "execution_count": 54,
   "metadata": {},
   "outputs": [
    {
     "data": {
      "text/plain": [
       "count    368.000000\n",
       "mean       3.937500\n",
       "std        0.927277\n",
       "min       -1.000000\n",
       "25%        4.000000\n",
       "50%        4.000000\n",
       "75%        5.000000\n",
       "max        5.000000\n",
       "Name: famrel, dtype: float64"
      ]
     },
     "execution_count": 54,
     "metadata": {},
     "output_type": "execute_result"
    },
    {
     "data": {
      "image/png": "[encoded data removed]",
      "text/plain": [
       "<Figure size 432x288 with 1 Axes>"
      ]
     },
     "metadata": {
      "needs_background": "light"
     },
     "output_type": "display_data"
    }
   ],
   "source": [
    "students.famrel.hist(range = (0,7))\n",
    "students.famrel.describe()"
   ]
  },
  {
   "cell_type": "markdown",
   "metadata": {},
   "source": [
    "В основном семейные отношения у учеников хорошие"
   ]
  },
  {
   "cell_type": "markdown",
   "metadata": {},
   "source": [
    "# столбец freetime "
   ]
  },
  {
   "cell_type": "code",
   "execution_count": 55,
   "metadata": {},
   "outputs": [
    {
     "data": {
      "text/plain": [
       "count    384.000000\n",
       "mean       3.231771\n",
       "std        0.993940\n",
       "min        1.000000\n",
       "25%        3.000000\n",
       "50%        3.000000\n",
       "75%        4.000000\n",
       "max        5.000000\n",
       "Name: freetime, dtype: float64"
      ]
     },
     "execution_count": 55,
     "metadata": {},
     "output_type": "execute_result"
    },
    {
     "data": {
      "image/png": "[encoded data removed]",
      "text/plain": [
       "<Figure size 432x288 with 1 Axes>"
      ]
     },
     "metadata": {
      "needs_background": "light"
     },
     "output_type": "display_data"
    }
   ],
   "source": [
    "students.freetime.hist(range = (0,7))\n",
    "students.freetime.describe()"
   ]
  },
  {
   "cell_type": "markdown",
   "metadata": {},
   "source": [
    "У учеников свободного времени после школы достаточно"
   ]
  },
  {
   "cell_type": "markdown",
   "metadata": {},
   "source": [
    "# столбец goout"
   ]
  },
  {
   "cell_type": "code",
   "execution_count": 56,
   "metadata": {},
   "outputs": [
    {
     "data": {
      "text/plain": [
       "count    387.000000\n",
       "mean       3.105943\n",
       "std        1.115896\n",
       "min        1.000000\n",
       "25%        2.000000\n",
       "50%        3.000000\n",
       "75%        4.000000\n",
       "max        5.000000\n",
       "Name: goout, dtype: float64"
      ]
     },
     "execution_count": 56,
     "metadata": {},
     "output_type": "execute_result"
    },
    {
     "data": {
      "image/png": "[encoded data removed]",
      "text/plain": [
       "<Figure size 432x288 with 1 Axes>"
      ]
     },
     "metadata": {
      "needs_background": "light"
     },
     "output_type": "display_data"
    }
   ],
   "source": [
    "students.goout.hist(range = (0,7))\n",
    "students.goout.describe()"
   ]
  },
  {
   "cell_type": "markdown",
   "metadata": {},
   "source": [
    "В основном ученики достаточно времени проводят с друзьями"
   ]
  },
  {
   "cell_type": "markdown",
   "metadata": {},
   "source": [
    "# столбец health"
   ]
  },
  {
   "cell_type": "code",
   "execution_count": 57,
   "metadata": {},
   "outputs": [
    {
     "data": {
      "text/plain": [
       "count    380.000000\n",
       "mean       3.531579\n",
       "std        1.396019\n",
       "min        1.000000\n",
       "25%        3.000000\n",
       "50%        4.000000\n",
       "75%        5.000000\n",
       "max        5.000000\n",
       "Name: health, dtype: float64"
      ]
     },
     "execution_count": 57,
     "metadata": {},
     "output_type": "execute_result"
    },
    {
     "data": {
      "image/png": "[encoded data removed]",
      "text/plain": [
       "<Figure size 432x288 with 1 Axes>"
      ]
     },
     "metadata": {
      "needs_background": "light"
     },
     "output_type": "display_data"
    }
   ],
   "source": [
    "students.health.hist(range = (0,7))\n",
    "students.health.describe()"
   ]
  },
  {
   "cell_type": "markdown",
   "metadata": {},
   "source": [
    "текущее состояние здоровья у учеников очень хорошее"
   ]
  },
  {
   "cell_type": "markdown",
   "metadata": {},
   "source": [
    "# studytime, granular'"
   ]
  },
  {
   "cell_type": "code",
   "execution_count": 85,
   "metadata": {},
   "outputs": [
    {
     "data": {
      "text/plain": [
       "count    388.000000\n",
       "mean      -6.115979\n",
       "std        2.526235\n",
       "min      -12.000000\n",
       "25%       -6.000000\n",
       "50%       -6.000000\n",
       "75%       -3.000000\n",
       "max       -3.000000\n",
       "Name: studytime, granular, dtype: float64"
      ]
     },
     "execution_count": 85,
     "metadata": {},
     "output_type": "execute_result"
    },
    {
     "data": {
      "image/png": "[encoded data removed]",
      "text/plain": [
       "<Figure size 432x288 with 1 Axes>"
      ]
     },
     "metadata": {
      "needs_background": "light"
     },
     "output_type": "display_data"
    }
   ],
   "source": [
    "students['studytime, granular'].hist()\n",
    "students['studytime, granular'].describe()"
   ]
  },
  {
   "cell_type": "markdown",
   "metadata": {},
   "source": [
    "# столбец absences"
   ]
  },
  {
   "cell_type": "code",
   "execution_count": 59,
   "metadata": {},
   "outputs": [
    {
     "data": {
      "text/plain": [
       "count    383.000000\n",
       "mean       7.279373\n",
       "std       23.465197\n",
       "min        0.000000\n",
       "25%        0.000000\n",
       "50%        4.000000\n",
       "75%        8.000000\n",
       "max      385.000000\n",
       "Name: absences, dtype: float64"
      ]
     },
     "execution_count": 59,
     "metadata": {},
     "output_type": "execute_result"
    },
    {
     "data": {
      "image/png": "[encoded data removed]",
      "text/plain": [
       "<Figure size 432x288 with 1 Axes>"
      ]
     },
     "metadata": {
      "needs_background": "light"
     },
     "output_type": "display_data"
    }
   ],
   "source": [
    "students.absences.hist()\n",
    "students.absences.describe()"
   ]
  },
  {
   "cell_type": "code",
   "execution_count": 70,
   "metadata": {},
   "outputs": [
    {
     "name": "stdout",
     "output_type": "stream",
     "text": [
      "25-й перцентиль: 0.0, 75-й перцентиль: 8.0, IQR: 8.0,  Границы выбросов: [-12.0, 20.0].\n"
     ]
    },
    {
     "data": {
      "text/plain": [
       "<matplotlib.legend.Legend at 0x1b2de3f28e0>"
      ]
     },
     "execution_count": 70,
     "metadata": {},
     "output_type": "execute_result"
    },
    {
     "data": {
      "image/png": "[encoded data removed]",
      "text/plain": [
       "<Figure size 432x288 with 1 Axes>"
      ]
     },
     "metadata": {
      "needs_background": "light"
     },
     "output_type": "display_data"
    }
   ],
   "source": [
    "IQR = students.absences.quantile(0.75) - students.absences.quantile(0.25)\n",
    "perc25 = students.absences.quantile(0.25)\n",
    "perc75 = students.absences.quantile(0.75)\n",
    "print('25-й перцентиль: {},'.format(perc25), '75-й перцентиль: {},'.format(perc75), \"IQR: {}, \".format(IQR), \"Границы выбросов: [{f}, {l}].\".format(f=perc25 - 1.5*IQR, l=perc75 + 1.5*IQR))\n",
    " \n",
    "students.absences.loc[students.absences.between(perc25 - 1.5*IQR, perc75 + 1.5*IQR)].hist(bins = 10, label = 'IQR')\n",
    " \n",
    "plt.legend()"
   ]
  },
  {
   "cell_type": "code",
   "execution_count": 71,
   "metadata": {},
   "outputs": [],
   "source": [
    "student = students.loc[students.absences.between(perc25 - 1.5*IQR, perc75 + 1.5*IQR)]"
   ]
  },
  {
   "cell_type": "markdown",
   "metadata": {},
   "source": [
    "В столбце были выбросы,отобрали экстремально низкие и экстремально высокие оценки. Отфильтровали данные"
   ]
  },
  {
   "cell_type": "markdown",
   "metadata": {},
   "source": [
    "# столбец score"
   ]
  },
  {
   "cell_type": "code",
   "execution_count": 72,
   "metadata": {},
   "outputs": [
    {
     "data": {
      "text/plain": [
       "count    389.000000\n",
       "mean      52.262211\n",
       "std       22.919022\n",
       "min        0.000000\n",
       "25%       40.000000\n",
       "50%       55.000000\n",
       "75%       70.000000\n",
       "max      100.000000\n",
       "Name: score, dtype: float64"
      ]
     },
     "execution_count": 72,
     "metadata": {},
     "output_type": "execute_result"
    },
    {
     "data": {
      "image/png": "[encoded data removed]",
      "text/plain": [
       "<Figure size 432x288 with 1 Axes>"
      ]
     },
     "metadata": {
      "needs_background": "light"
     },
     "output_type": "display_data"
    }
   ],
   "source": [
    "students.score.hist()\n",
    "students.score.describe()"
   ]
  },
  {
   "cell_type": "markdown",
   "metadata": {},
   "source": [
    "# Корреляционный анализ"
   ]
  },
  {
   "cell_type": "code",
   "execution_count": 75,
   "metadata": {},
   "outputs": [
    {
     "data": {
      "text/html": [
       "<div>\n",
       "<style scoped>\n",
       "    .dataframe tbody tr th:only-of-type {\n",
       "        vertical-align: middle;\n",
       "    }\n",
       "\n",
       "    .dataframe tbody tr th {\n",
       "        vertical-align: top;\n",
       "    }\n",
       "\n",
       "    .dataframe thead th {\n",
       "        text-align: right;\n",
       "    }\n",
       "</style>\n",
       "<table border=\"1\" class=\"dataframe\">\n",
       "  <thead>\n",
       "    <tr style=\"text-align: right;\">\n",
       "      <th></th>\n",
       "      <th>age</th>\n",
       "      <th>Medu</th>\n",
       "      <th>Fedu</th>\n",
       "      <th>traveltime</th>\n",
       "      <th>studytime</th>\n",
       "      <th>failures</th>\n",
       "      <th>studytime, granular</th>\n",
       "      <th>famrel</th>\n",
       "      <th>freetime</th>\n",
       "      <th>goout</th>\n",
       "      <th>health</th>\n",
       "      <th>absences</th>\n",
       "      <th>score</th>\n",
       "    </tr>\n",
       "  </thead>\n",
       "  <tbody>\n",
       "    <tr>\n",
       "      <th>age</th>\n",
       "      <td>1.000000</td>\n",
       "      <td>-0.161704</td>\n",
       "      <td>-0.138018</td>\n",
       "      <td>0.081508</td>\n",
       "      <td>-0.015556</td>\n",
       "      <td>0.228047</td>\n",
       "      <td>0.015556</td>\n",
       "      <td>0.068899</td>\n",
       "      <td>0.029023</td>\n",
       "      <td>0.135107</td>\n",
       "      <td>-0.065946</td>\n",
       "      <td>0.093592</td>\n",
       "      <td>-0.155726</td>\n",
       "    </tr>\n",
       "    <tr>\n",
       "      <th>Medu</th>\n",
       "      <td>-0.161704</td>\n",
       "      <td>1.000000</td>\n",
       "      <td>0.275598</td>\n",
       "      <td>-0.173515</td>\n",
       "      <td>0.078589</td>\n",
       "      <td>-0.245463</td>\n",
       "      <td>-0.078589</td>\n",
       "      <td>-0.010050</td>\n",
       "      <td>0.025335</td>\n",
       "      <td>0.064164</td>\n",
       "      <td>-0.045051</td>\n",
       "      <td>-0.011944</td>\n",
       "      <td>0.213349</td>\n",
       "    </tr>\n",
       "    <tr>\n",
       "      <th>Fedu</th>\n",
       "      <td>-0.138018</td>\n",
       "      <td>0.275598</td>\n",
       "      <td>1.000000</td>\n",
       "      <td>0.030646</td>\n",
       "      <td>0.057199</td>\n",
       "      <td>-0.150821</td>\n",
       "      <td>-0.057199</td>\n",
       "      <td>0.040577</td>\n",
       "      <td>-0.066556</td>\n",
       "      <td>-0.023282</td>\n",
       "      <td>0.027251</td>\n",
       "      <td>0.004695</td>\n",
       "      <td>0.078573</td>\n",
       "    </tr>\n",
       "    <tr>\n",
       "      <th>traveltime</th>\n",
       "      <td>0.081508</td>\n",
       "      <td>-0.173515</td>\n",
       "      <td>0.030646</td>\n",
       "      <td>1.000000</td>\n",
       "      <td>-0.102206</td>\n",
       "      <td>0.064699</td>\n",
       "      <td>0.102206</td>\n",
       "      <td>-0.016857</td>\n",
       "      <td>-0.021937</td>\n",
       "      <td>0.037636</td>\n",
       "      <td>-0.021531</td>\n",
       "      <td>-0.048215</td>\n",
       "      <td>-0.070559</td>\n",
       "    </tr>\n",
       "    <tr>\n",
       "      <th>studytime</th>\n",
       "      <td>-0.015556</td>\n",
       "      <td>0.078589</td>\n",
       "      <td>0.057199</td>\n",
       "      <td>-0.102206</td>\n",
       "      <td>1.000000</td>\n",
       "      <td>-0.178992</td>\n",
       "      <td>-1.000000</td>\n",
       "      <td>0.045894</td>\n",
       "      <td>-0.121969</td>\n",
       "      <td>-0.051280</td>\n",
       "      <td>-0.080016</td>\n",
       "      <td>-0.026544</td>\n",
       "      <td>0.115741</td>\n",
       "    </tr>\n",
       "    <tr>\n",
       "      <th>failures</th>\n",
       "      <td>0.228047</td>\n",
       "      <td>-0.245463</td>\n",
       "      <td>-0.150821</td>\n",
       "      <td>0.064699</td>\n",
       "      <td>-0.178992</td>\n",
       "      <td>1.000000</td>\n",
       "      <td>0.178992</td>\n",
       "      <td>-0.022655</td>\n",
       "      <td>0.098382</td>\n",
       "      <td>0.120914</td>\n",
       "      <td>0.081284</td>\n",
       "      <td>0.057391</td>\n",
       "      <td>-0.344338</td>\n",
       "    </tr>\n",
       "    <tr>\n",
       "      <th>studytime, granular</th>\n",
       "      <td>0.015556</td>\n",
       "      <td>-0.078589</td>\n",
       "      <td>-0.057199</td>\n",
       "      <td>0.102206</td>\n",
       "      <td>-1.000000</td>\n",
       "      <td>0.178992</td>\n",
       "      <td>1.000000</td>\n",
       "      <td>-0.045894</td>\n",
       "      <td>0.121969</td>\n",
       "      <td>0.051280</td>\n",
       "      <td>0.080016</td>\n",
       "      <td>0.026544</td>\n",
       "      <td>-0.115741</td>\n",
       "    </tr>\n",
       "    <tr>\n",
       "      <th>famrel</th>\n",
       "      <td>0.068899</td>\n",
       "      <td>-0.010050</td>\n",
       "      <td>0.040577</td>\n",
       "      <td>-0.016857</td>\n",
       "      <td>0.045894</td>\n",
       "      <td>-0.022655</td>\n",
       "      <td>-0.045894</td>\n",
       "      <td>1.000000</td>\n",
       "      <td>0.175743</td>\n",
       "      <td>0.081154</td>\n",
       "      <td>0.077474</td>\n",
       "      <td>-0.082609</td>\n",
       "      <td>0.057112</td>\n",
       "    </tr>\n",
       "    <tr>\n",
       "      <th>freetime</th>\n",
       "      <td>0.029023</td>\n",
       "      <td>0.025335</td>\n",
       "      <td>-0.066556</td>\n",
       "      <td>-0.021937</td>\n",
       "      <td>-0.121969</td>\n",
       "      <td>0.098382</td>\n",
       "      <td>0.121969</td>\n",
       "      <td>0.175743</td>\n",
       "      <td>1.000000</td>\n",
       "      <td>0.296437</td>\n",
       "      <td>0.061575</td>\n",
       "      <td>0.009292</td>\n",
       "      <td>0.019026</td>\n",
       "    </tr>\n",
       "    <tr>\n",
       "      <th>goout</th>\n",
       "      <td>0.135107</td>\n",
       "      <td>0.064164</td>\n",
       "      <td>-0.023282</td>\n",
       "      <td>0.037636</td>\n",
       "      <td>-0.051280</td>\n",
       "      <td>0.120914</td>\n",
       "      <td>0.051280</td>\n",
       "      <td>0.081154</td>\n",
       "      <td>0.296437</td>\n",
       "      <td>1.000000</td>\n",
       "      <td>-0.015608</td>\n",
       "      <td>-0.048738</td>\n",
       "      <td>-0.129685</td>\n",
       "    </tr>\n",
       "    <tr>\n",
       "      <th>health</th>\n",
       "      <td>-0.065946</td>\n",
       "      <td>-0.045051</td>\n",
       "      <td>0.027251</td>\n",
       "      <td>-0.021531</td>\n",
       "      <td>-0.080016</td>\n",
       "      <td>0.081284</td>\n",
       "      <td>0.080016</td>\n",
       "      <td>0.077474</td>\n",
       "      <td>0.061575</td>\n",
       "      <td>-0.015608</td>\n",
       "      <td>1.000000</td>\n",
       "      <td>-0.016222</td>\n",
       "      <td>-0.070460</td>\n",
       "    </tr>\n",
       "    <tr>\n",
       "      <th>absences</th>\n",
       "      <td>0.093592</td>\n",
       "      <td>-0.011944</td>\n",
       "      <td>0.004695</td>\n",
       "      <td>-0.048215</td>\n",
       "      <td>-0.026544</td>\n",
       "      <td>0.057391</td>\n",
       "      <td>0.026544</td>\n",
       "      <td>-0.082609</td>\n",
       "      <td>0.009292</td>\n",
       "      <td>-0.048738</td>\n",
       "      <td>-0.016222</td>\n",
       "      <td>1.000000</td>\n",
       "      <td>0.065283</td>\n",
       "    </tr>\n",
       "    <tr>\n",
       "      <th>score</th>\n",
       "      <td>-0.155726</td>\n",
       "      <td>0.213349</td>\n",
       "      <td>0.078573</td>\n",
       "      <td>-0.070559</td>\n",
       "      <td>0.115741</td>\n",
       "      <td>-0.344338</td>\n",
       "      <td>-0.115741</td>\n",
       "      <td>0.057112</td>\n",
       "      <td>0.019026</td>\n",
       "      <td>-0.129685</td>\n",
       "      <td>-0.070460</td>\n",
       "      <td>0.065283</td>\n",
       "      <td>1.000000</td>\n",
       "    </tr>\n",
       "  </tbody>\n",
       "</table>\n",
       "</div>"
      ],
      "text/plain": [
       "                          age      Medu      Fedu  traveltime  studytime  \\\n",
       "age                  1.000000 -0.161704 -0.138018    0.081508  -0.015556   \n",
       "Medu                -0.161704  1.000000  0.275598   -0.173515   0.078589   \n",
       "Fedu                -0.138018  0.275598  1.000000    0.030646   0.057199   \n",
       "traveltime           0.081508 -0.173515  0.030646    1.000000  -0.102206   \n",
       "studytime           -0.015556  0.078589  0.057199   -0.102206   1.000000   \n",
       "failures             0.228047 -0.245463 -0.150821    0.064699  -0.178992   \n",
       "studytime, granular  0.015556 -0.078589 -0.057199    0.102206  -1.000000   \n",
       "famrel               0.068899 -0.010050  0.040577   -0.016857   0.045894   \n",
       "freetime             0.029023  0.025335 -0.066556   -0.021937  -0.121969   \n",
       "goout                0.135107  0.064164 -0.023282    0.037636  -0.051280   \n",
       "health              -0.065946 -0.045051  0.027251   -0.021531  -0.080016   \n",
       "absences             0.093592 -0.011944  0.004695   -0.048215  -0.026544   \n",
       "score               -0.155726  0.213349  0.078573   -0.070559   0.115741   \n",
       "\n",
       "                     failures  studytime, granular    famrel  freetime  \\\n",
       "age                  0.228047             0.015556  0.068899  0.029023   \n",
       "Medu                -0.245463            -0.078589 -0.010050  0.025335   \n",
       "Fedu                -0.150821            -0.057199  0.040577 -0.066556   \n",
       "traveltime           0.064699             0.102206 -0.016857 -0.021937   \n",
       "studytime           -0.178992            -1.000000  0.045894 -0.121969   \n",
       "failures             1.000000             0.178992 -0.022655  0.098382   \n",
       "studytime, granular  0.178992             1.000000 -0.045894  0.121969   \n",
       "famrel              -0.022655            -0.045894  1.000000  0.175743   \n",
       "freetime             0.098382             0.121969  0.175743  1.000000   \n",
       "goout                0.120914             0.051280  0.081154  0.296437   \n",
       "health               0.081284             0.080016  0.077474  0.061575   \n",
       "absences             0.057391             0.026544 -0.082609  0.009292   \n",
       "score               -0.344338            -0.115741  0.057112  0.019026   \n",
       "\n",
       "                        goout    health  absences     score  \n",
       "age                  0.135107 -0.065946  0.093592 -0.155726  \n",
       "Medu                 0.064164 -0.045051 -0.011944  0.213349  \n",
       "Fedu                -0.023282  0.027251  0.004695  0.078573  \n",
       "traveltime           0.037636 -0.021531 -0.048215 -0.070559  \n",
       "studytime           -0.051280 -0.080016 -0.026544  0.115741  \n",
       "failures             0.120914  0.081284  0.057391 -0.344338  \n",
       "studytime, granular  0.051280  0.080016  0.026544 -0.115741  \n",
       "famrel               0.081154  0.077474 -0.082609  0.057112  \n",
       "freetime             0.296437  0.061575  0.009292  0.019026  \n",
       "goout                1.000000 -0.015608 -0.048738 -0.129685  \n",
       "health              -0.015608  1.000000 -0.016222 -0.070460  \n",
       "absences            -0.048738 -0.016222  1.000000  0.065283  \n",
       "score               -0.129685 -0.070460  0.065283  1.000000  "
      ]
     },
     "execution_count": 75,
     "metadata": {},
     "output_type": "execute_result"
    }
   ],
   "source": [
    "students.corr()"
   ]
  },
  {
   "cell_type": "code",
   "execution_count": 79,
   "metadata": {},
   "outputs": [],
   "source": [
    "def get_boxplot(column):\n",
    "    fig, ax = plt.subplots(figsize = (14, 4))\n",
    "    sns.boxplot(x=column, y='score', \n",
    "                data=students.loc[students.loc[:, column].isin(students.loc[:, column].value_counts().index[:10])],\n",
    "               ax=ax)\n",
    "    plt.xticks(rotation=45)\n",
    "    ax.set_title('Boxplot for ' + column)\n",
    "    plt.show()"
   ]
  },
  {
   "cell_type": "code",
   "execution_count": 80,
   "metadata": {},
   "outputs": [
    {
     "data": {
      "image/png": "[encoded data removed]",
      "text/plain": [
       "<Figure size 1008x288 with 1 Axes>"
      ]
     },
     "metadata": {
      "needs_background": "light"
     },
     "output_type": "display_data"
    },
    {
     "data": {
      "image/png": "[encoded data removed]",
      "text/plain": [
       "<Figure size 1008x288 with 1 Axes>"
      ]
     },
     "metadata": {
      "needs_background": "light"
     },
     "output_type": "display_data"
    },
    {
     "data": {
      "image/png": "[encoded data removed]",
      "text/plain": [
       "<Figure size 1008x288 with 1 Axes>"
      ]
     },
     "metadata": {
      "needs_background": "light"
     },
     "output_type": "display_data"
    },
    {
     "data": {
      "image/png": "[encoded data removed]",
      "text/plain": [
       "<Figure size 1008x288 with 1 Axes>"
      ]
     },
     "metadata": {
      "needs_background": "light"
     },
     "output_type": "display_data"
    },
    {
     "data": {
      "image/png": "[encoded data removed]",
      "text/plain": [
       "<Figure size 1008x288 with 1 Axes>"
      ]
     },
     "metadata": {
      "needs_background": "light"
     },
     "output_type": "display_data"
    },
    {
     "data": {
      "image/png": "[encoded data removed]",
      "text/plain": [
       "<Figure size 1008x288 with 1 Axes>"
      ]
     },
     "metadata": {
      "needs_background": "light"
     },
     "output_type": "display_data"
    },
    {
     "data": {
      "image/png": "[encoded data removed]",
      "text/plain": [
       "<Figure size 1008x288 with 1 Axes>"
      ]
     },
     "metadata": {
      "needs_background": "light"
     },
     "output_type": "display_data"
    },
    {
     "data": {
      "image/png": "[encoded data removed]",
      "text/plain": [
       "<Figure size 1008x288 with 1 Axes>"
      ]
     },
     "metadata": {
      "needs_background": "light"
     },
     "output_type": "display_data"
    },
    {
     "data": {
      "image/png": "[encoded data removed]",
      "text/plain": [
       "<Figure size 1008x288 with 1 Axes>"
      ]
     },
     "metadata": {
      "needs_background": "light"
     },
     "output_type": "display_data"
    },
    {
     "data": {
      "image/png": "[encoded data removed]",
      "text/plain": [
       "<Figure size 1008x288 with 1 Axes>"
      ]
     },
     "metadata": {
      "needs_background": "light"
     },
     "output_type": "display_data"
    },
    {
     "data": {
      "image/png": "[encoded data removed]",
      "text/plain": [
       "<Figure size 1008x288 with 1 Axes>"
      ]
     },
     "metadata": {
      "needs_background": "light"
     },
     "output_type": "display_data"
    },
    {
     "data": {
      "image/png": "[encoded data removed]",
      "text/plain": [
       "<Figure size 1008x288 with 1 Axes>"
      ]
     },
     "metadata": {
      "needs_background": "light"
     },
     "output_type": "display_data"
    },
    {
     "data": {
      "image/png": "[encoded data removed]",
      "text/plain": [
       "<Figure size 1008x288 with 1 Axes>"
      ]
     },
     "metadata": {
      "needs_background": "light"
     },
     "output_type": "display_data"
    },
    {
     "data": {
      "image/png": "[encoded data removed]",
      "text/plain": [
       "<Figure size 1008x288 with 1 Axes>"
      ]
     },
     "metadata": {
      "needs_background": "light"
     },
     "output_type": "display_data"
    },
    {
     "data": {
      "image/png": "[encoded data removed]",
      "text/plain": [
       "<Figure size 1008x288 with 1 Axes>"
      ]
     },
     "metadata": {
      "needs_background": "light"
     },
     "output_type": "display_data"
    },
    {
     "data": {
      "image/png": "[encoded data removed]",
      "text/plain": [
       "<Figure size 1008x288 with 1 Axes>"
      ]
     },
     "metadata": {
      "needs_background": "light"
     },
     "output_type": "display_data"
    },
    {
     "data": {
      "image/png": "[encoded data removed]",
      "text/plain": [
       "<Figure size 1008x288 with 1 Axes>"
      ]
     },
     "metadata": {
      "needs_background": "light"
     },
     "output_type": "display_data"
    }
   ],
   "source": [
    "for col in ['school', 'sex', 'address', 'famsize', 'Pstatus', 'Mjob', 'Fjob', 'reason', 'guardian', 'schoolsup', 'famsup', 'paid', 'activities', 'nursery', 'higher', 'internet', 'romantic']:\n",
    "    get_boxplot(col)"
   ]
  },
  {
   "cell_type": "code",
   "execution_count": 81,
   "metadata": {},
   "outputs": [],
   "source": [
    "def get_stat_dif(column):\n",
    "    cols = students.loc[:, column].value_counts().index[:10]\n",
    "    combinations_all = list(combinations(cols, 2))\n",
    "    for comb in combinations_all:\n",
    "        if ttest_ind(students.loc[students.loc[:, column] == comb[0], 'score'], \n",
    "                        students.loc[students.loc[:, column] == comb[1], 'score']).pvalue \\\n",
    "            <= 0.05/len(combinations_all): # Учли поправку Бонферони\n",
    "            print('Найдены статистически значимые различия для колонки', column)\n",
    "            break"
   ]
  },
  {
   "cell_type": "code",
   "execution_count": 82,
   "metadata": {},
   "outputs": [
    {
     "name": "stdout",
     "output_type": "stream",
     "text": [
      "Найдены статистически значимые различия для колонки Mjob\n"
     ]
    }
   ],
   "source": [
    "for col in ['school', 'sex', 'address', 'famsize', 'Pstatus', 'Mjob', 'Fjob', 'reason', 'guardian', 'schoolsup', 'famsup', 'paid', 'activities', 'nursery', 'higher', 'internet', 'romantic']:\n",
    "    get_stat_dif(col)"
   ]
  },
  {
   "cell_type": "markdown",
   "metadata": {},
   "source": [
    "# Выводы"
   ]
  },
  {
   "cell_type": "markdown",
   "metadata": {},
   "source": [
    "В данных столбцов достаточное количество пустых значений. Только три столбца заполнены полностью."
   ]
  },
  {
   "cell_type": "markdown",
   "metadata": {},
   "source": [
    "Выбросы найдены только в столбце absences."
   ]
  },
  {
   "cell_type": "markdown",
   "metadata": {},
   "source": [
    "Наибольшая корреляция у столбцов Medu, studytime, failures, studytime, granular,age"
   ]
  },
  {
   "cell_type": "markdown",
   "metadata": {},
   "source": [
    "В нашем случае важная переменная, которая, возможно, оказывает влияние на оценку Mjob"
   ]
  },
  {
   "cell_type": "code",
   "execution_count": null,
   "metadata": {},
   "outputs": [],
   "source": []
  }
 ],
 "metadata": {
  "kernelspec": {
   "display_name": "Python 3",
   "language": "python",
   "name": "python3"
  },
  "language_info": {
   "codemirror_mode": {
    "name": "ipython",
    "version": 3
   },
   "file_extension": ".py",
   "mimetype": "text/x-python",
   "name": "python",
   "nbconvert_exporter": "python",
   "pygments_lexer": "ipython3",
   "version": "3.8.5"
  }
 },
 "nbformat": 4,
 "nbformat_minor": 4
}
